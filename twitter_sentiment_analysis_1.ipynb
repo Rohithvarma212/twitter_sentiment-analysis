{
 "cells": [
  {
   "cell_type": "markdown",
   "id": "2bfb2646",
   "metadata": {},
   "source": [
    "<div style=\"color:white;\n",
    "            display:fill;\n",
    "            border-radius:15px;\n",
    "            background-color:skyblue;\n",
    "            font-size:100%;\n",
    "            font-family:Verdana;\n",
    "            letter-spacing:1px\">\n",
    "    <h2 style='padding: 20px;\n",
    "              color:black;\n",
    "              text-align:center;'>\n",
    "        TWITTER SENTIMENT ANALYSIS\n",
    "    </h2>\n",
    "    </div>"
   ]
  },
  {
   "cell_type": "markdown",
   "id": "c974de54",
   "metadata": {},
   "source": [
    "### Importing all the required libraries"
   ]
  },
  {
   "cell_type": "code",
   "execution_count": 71,
   "id": "2808c4b3",
   "metadata": {},
   "outputs": [],
   "source": [
    "import pandas as pd\n",
    "import numpy as np\n",
    "import seaborn as sns\n",
    "import pandas as pd\n",
    "import numpy as np\n",
    "from sklearn.model_selection import train_test_split\n",
    "from sklearn.feature_extraction.text import TfidfVectorizer\n",
    "from sklearn.metrics import mean_squared_error, mean_absolute_error, r2_score\n",
    "from sklearn.linear_model import LinearRegression\n",
    "from sklearn.svm import SVR\n",
    "from sklearn.neural_network import MLPRegressor\n",
    "from sklearn.naive_bayes import GaussianNB\n",
    "import joblib"
   ]
  },
  {
   "cell_type": "markdown",
   "id": "ce57aadb",
   "metadata": {},
   "source": [
    "### Loading data in CSV file"
   ]
  },
  {
   "cell_type": "code",
   "execution_count": 11,
   "id": "12e243fe",
   "metadata": {},
   "outputs": [],
   "source": [
    "df = pd.read_csv(\"twitterdata.csv\")"
   ]
  },
  {
   "cell_type": "markdown",
   "id": "cb7a8e0b",
   "metadata": {},
   "source": [
    "### Some Quick information about data"
   ]
  },
  {
   "cell_type": "code",
   "execution_count": 12,
   "id": "1dc7dc87",
   "metadata": {},
   "outputs": [
    {
     "data": {
      "text/html": [
       "<div>\n",
       "<style scoped>\n",
       "    .dataframe tbody tr th:only-of-type {\n",
       "        vertical-align: middle;\n",
       "    }\n",
       "\n",
       "    .dataframe tbody tr th {\n",
       "        vertical-align: top;\n",
       "    }\n",
       "\n",
       "    .dataframe thead th {\n",
       "        text-align: right;\n",
       "    }\n",
       "</style>\n",
       "<table border=\"1\" class=\"dataframe\">\n",
       "  <thead>\n",
       "    <tr style=\"text-align: right;\">\n",
       "      <th></th>\n",
       "      <th>target</th>\n",
       "      <th>ids</th>\n",
       "      <th>date</th>\n",
       "      <th>flag</th>\n",
       "      <th>user</th>\n",
       "      <th>text</th>\n",
       "    </tr>\n",
       "  </thead>\n",
       "  <tbody>\n",
       "    <tr>\n",
       "      <th>0</th>\n",
       "      <td>0</td>\n",
       "      <td>1467810672</td>\n",
       "      <td>Mon Apr 06 22:19:49 PDT 2009</td>\n",
       "      <td>NO_QUERY</td>\n",
       "      <td>scotthamilton</td>\n",
       "      <td>is upset that he can't update his Facebook by ...</td>\n",
       "    </tr>\n",
       "    <tr>\n",
       "      <th>1</th>\n",
       "      <td>0</td>\n",
       "      <td>1467810917</td>\n",
       "      <td>Mon Apr 06 22:19:53 PDT 2009</td>\n",
       "      <td>NO_QUERY</td>\n",
       "      <td>mattycus</td>\n",
       "      <td>@Kenichan I dived many times for the ball. Man...</td>\n",
       "    </tr>\n",
       "    <tr>\n",
       "      <th>2</th>\n",
       "      <td>0</td>\n",
       "      <td>1467811184</td>\n",
       "      <td>Mon Apr 06 22:19:57 PDT 2009</td>\n",
       "      <td>NO_QUERY</td>\n",
       "      <td>ElleCTF</td>\n",
       "      <td>my whole body feels itchy and like its on fire</td>\n",
       "    </tr>\n",
       "    <tr>\n",
       "      <th>3</th>\n",
       "      <td>0</td>\n",
       "      <td>1467811193</td>\n",
       "      <td>Mon Apr 06 22:19:57 PDT 2009</td>\n",
       "      <td>NO_QUERY</td>\n",
       "      <td>Karoli</td>\n",
       "      <td>@nationwideclass no, it's not behaving at all....</td>\n",
       "    </tr>\n",
       "    <tr>\n",
       "      <th>4</th>\n",
       "      <td>0</td>\n",
       "      <td>1467811372</td>\n",
       "      <td>Mon Apr 06 22:20:00 PDT 2009</td>\n",
       "      <td>NO_QUERY</td>\n",
       "      <td>joy_wolf</td>\n",
       "      <td>@Kwesidei not the whole crew</td>\n",
       "    </tr>\n",
       "  </tbody>\n",
       "</table>\n",
       "</div>"
      ],
      "text/plain": [
       "   target         ids                          date      flag           user  \\\n",
       "0       0  1467810672  Mon Apr 06 22:19:49 PDT 2009  NO_QUERY  scotthamilton   \n",
       "1       0  1467810917  Mon Apr 06 22:19:53 PDT 2009  NO_QUERY       mattycus   \n",
       "2       0  1467811184  Mon Apr 06 22:19:57 PDT 2009  NO_QUERY        ElleCTF   \n",
       "3       0  1467811193  Mon Apr 06 22:19:57 PDT 2009  NO_QUERY         Karoli   \n",
       "4       0  1467811372  Mon Apr 06 22:20:00 PDT 2009  NO_QUERY       joy_wolf   \n",
       "\n",
       "                                                text  \n",
       "0  is upset that he can't update his Facebook by ...  \n",
       "1  @Kenichan I dived many times for the ball. Man...  \n",
       "2    my whole body feels itchy and like its on fire   \n",
       "3  @nationwideclass no, it's not behaving at all....  \n",
       "4                      @Kwesidei not the whole crew   "
      ]
     },
     "execution_count": 12,
     "metadata": {},
     "output_type": "execute_result"
    }
   ],
   "source": [
    "df.head()"
   ]
  },
  {
   "cell_type": "code",
   "execution_count": 13,
   "id": "b4c86486",
   "metadata": {},
   "outputs": [
    {
     "data": {
      "text/html": [
       "<div>\n",
       "<style scoped>\n",
       "    .dataframe tbody tr th:only-of-type {\n",
       "        vertical-align: middle;\n",
       "    }\n",
       "\n",
       "    .dataframe tbody tr th {\n",
       "        vertical-align: top;\n",
       "    }\n",
       "\n",
       "    .dataframe thead th {\n",
       "        text-align: right;\n",
       "    }\n",
       "</style>\n",
       "<table border=\"1\" class=\"dataframe\">\n",
       "  <thead>\n",
       "    <tr style=\"text-align: right;\">\n",
       "      <th></th>\n",
       "      <th>target</th>\n",
       "      <th>ids</th>\n",
       "      <th>date</th>\n",
       "      <th>flag</th>\n",
       "      <th>user</th>\n",
       "      <th>text</th>\n",
       "    </tr>\n",
       "  </thead>\n",
       "  <tbody>\n",
       "    <tr>\n",
       "      <th>1994</th>\n",
       "      <td>1</td>\n",
       "      <td>1468280681</td>\n",
       "      <td>Tue Apr 07 00:43:16 PDT 2009</td>\n",
       "      <td>NO_QUERY</td>\n",
       "      <td>chomma</td>\n",
       "      <td>@roxy_yeah yep a loser.</td>\n",
       "    </tr>\n",
       "    <tr>\n",
       "      <th>1995</th>\n",
       "      <td>1</td>\n",
       "      <td>1468280970</td>\n",
       "      <td>Tue Apr 07 00:43:22 PDT 2009</td>\n",
       "      <td>NO_QUERY</td>\n",
       "      <td>EvilSue</td>\n",
       "      <td>and finito! All bathroom contractors been thru...</td>\n",
       "    </tr>\n",
       "    <tr>\n",
       "      <th>1996</th>\n",
       "      <td>1</td>\n",
       "      <td>1468281170</td>\n",
       "      <td>Tue Apr 07 00:43:26 PDT 2009</td>\n",
       "      <td>NO_QUERY</td>\n",
       "      <td>lexikitty</td>\n",
       "      <td>@caitlinaudrey awww!  that sucks! are you goin...</td>\n",
       "    </tr>\n",
       "    <tr>\n",
       "      <th>1997</th>\n",
       "      <td>1</td>\n",
       "      <td>1468281205</td>\n",
       "      <td>Tue Apr 07 00:43:29 PDT 2009</td>\n",
       "      <td>NO_QUERY</td>\n",
       "      <td>terrajen</td>\n",
       "      <td>Sorry, SF. Rescheduling my SF trip for this co...</td>\n",
       "    </tr>\n",
       "    <tr>\n",
       "      <th>1998</th>\n",
       "      <td>0</td>\n",
       "      <td>1468281484</td>\n",
       "      <td>Tue Apr 07 00:43:33 PDT 2009</td>\n",
       "      <td>NO_QUERY</td>\n",
       "      <td>MonBon_</td>\n",
       "      <td>2morw  I get my blasted wisdom teeth pulled! N...</td>\n",
       "    </tr>\n",
       "  </tbody>\n",
       "</table>\n",
       "</div>"
      ],
      "text/plain": [
       "      target         ids                          date      flag       user  \\\n",
       "1994       1  1468280681  Tue Apr 07 00:43:16 PDT 2009  NO_QUERY     chomma   \n",
       "1995       1  1468280970  Tue Apr 07 00:43:22 PDT 2009  NO_QUERY    EvilSue   \n",
       "1996       1  1468281170  Tue Apr 07 00:43:26 PDT 2009  NO_QUERY  lexikitty   \n",
       "1997       1  1468281205  Tue Apr 07 00:43:29 PDT 2009  NO_QUERY   terrajen   \n",
       "1998       0  1468281484  Tue Apr 07 00:43:33 PDT 2009  NO_QUERY    MonBon_   \n",
       "\n",
       "                                                   text  \n",
       "1994                          @roxy_yeah yep a loser.    \n",
       "1995  and finito! All bathroom contractors been thru...  \n",
       "1996  @caitlinaudrey awww!  that sucks! are you goin...  \n",
       "1997  Sorry, SF. Rescheduling my SF trip for this co...  \n",
       "1998  2morw  I get my blasted wisdom teeth pulled! N...  "
      ]
     },
     "execution_count": 13,
     "metadata": {},
     "output_type": "execute_result"
    }
   ],
   "source": [
    "df.tail()"
   ]
  },
  {
   "cell_type": "code",
   "execution_count": 14,
   "id": "71ceea6f",
   "metadata": {},
   "outputs": [
    {
     "data": {
      "text/plain": [
       "Index(['target', 'ids', 'date', 'flag', 'user', 'text'], dtype='object')"
      ]
     },
     "execution_count": 14,
     "metadata": {},
     "output_type": "execute_result"
    }
   ],
   "source": [
    "df.columns"
   ]
  },
  {
   "cell_type": "code",
   "execution_count": 15,
   "id": "72af1270",
   "metadata": {},
   "outputs": [
    {
     "data": {
      "text/plain": [
       "(1999, 6)"
      ]
     },
     "execution_count": 15,
     "metadata": {},
     "output_type": "execute_result"
    }
   ],
   "source": [
    "df.shape"
   ]
  },
  {
   "cell_type": "code",
   "execution_count": 16,
   "id": "f6b48e4c",
   "metadata": {},
   "outputs": [
    {
     "name": "stdout",
     "output_type": "stream",
     "text": [
      "<class 'pandas.core.frame.DataFrame'>\n",
      "RangeIndex: 1999 entries, 0 to 1998\n",
      "Data columns (total 6 columns):\n",
      " #   Column  Non-Null Count  Dtype \n",
      "---  ------  --------------  ----- \n",
      " 0   target  1999 non-null   int64 \n",
      " 1   ids     1999 non-null   int64 \n",
      " 2   date    1999 non-null   object\n",
      " 3   flag    1999 non-null   object\n",
      " 4   user    1999 non-null   object\n",
      " 5   text    1999 non-null   object\n",
      "dtypes: int64(2), object(4)\n",
      "memory usage: 93.8+ KB\n"
     ]
    }
   ],
   "source": [
    "df.info()"
   ]
  },
  {
   "cell_type": "markdown",
   "id": "51c7b8af",
   "metadata": {},
   "source": [
    "<div style=\"color:white;\n",
    "            display:fill;\n",
    "            border-radius:10px;\n",
    "            background-color:skyblue;\n",
    "            font-size:75%;\n",
    "            font-family:Verdana;\n",
    "            letter-spacing:1px\">\n",
    "    <h2 style='padding: 10px;\n",
    "              color:black;\n",
    "              text-align:center;'>\n",
    "        Data Preprocessing\n",
    "    </h2>\n",
    "    </div>"
   ]
  },
  {
   "cell_type": "markdown",
   "id": "a493ae9b",
   "metadata": {},
   "source": [
    "### Null values percentage of each columns\n",
    "\n",
    "There are no null values"
   ]
  },
  {
   "cell_type": "code",
   "execution_count": 17,
   "id": "09901c03",
   "metadata": {},
   "outputs": [
    {
     "data": {
      "text/plain": [
       "target    0\n",
       "ids       0\n",
       "date      0\n",
       "flag      0\n",
       "user      0\n",
       "text      0\n",
       "dtype: int64"
      ]
     },
     "execution_count": 17,
     "metadata": {},
     "output_type": "execute_result"
    }
   ],
   "source": [
    "df.isnull().sum()"
   ]
  },
  {
   "cell_type": "code",
   "execution_count": 18,
   "id": "04e5d395",
   "metadata": {},
   "outputs": [
    {
     "data": {
      "text/plain": [
       "2"
      ]
     },
     "execution_count": 18,
     "metadata": {},
     "output_type": "execute_result"
    }
   ],
   "source": [
    "df['target'].nunique()"
   ]
  },
  {
   "cell_type": "code",
   "execution_count": 19,
   "id": "99b3bf57",
   "metadata": {},
   "outputs": [],
   "source": [
    "\n",
    "df.columns = ['target', 'ids', 'timestamp', 'query', 'user', 'text']"
   ]
  },
  {
   "cell_type": "markdown",
   "id": "02853d0f",
   "metadata": {},
   "source": [
    "<div style=\"color:white;\n",
    "            display:fill;\n",
    "            border-radius:10px;\n",
    "            background-color:skyblue;\n",
    "            font-size:75%;\n",
    "            font-family:Verdana;\n",
    "            letter-spacing:1px\">\n",
    "    <h2 style='padding: 10px;\n",
    "              color:black;\n",
    "              text-align:center;'>\n",
    "        EDA (Exploratory Data Analysis)\n",
    "    </h2>\n",
    "    </div>"
   ]
  },
  {
   "cell_type": "code",
   "execution_count": 20,
   "id": "c86a04a6",
   "metadata": {},
   "outputs": [
    {
     "data": {
      "text/plain": [
       "<Axes: xlabel='target', ylabel='count'>"
      ]
     },
     "execution_count": 20,
     "metadata": {},
     "output_type": "execute_result"
    },
    {
     "data": {
      "image/png": "[encoded data removed]",
      "text/plain": [
       "<Figure size 640x480 with 1 Axes>"
      ]
     },
     "metadata": {},
     "output_type": "display_data"
    }
   ],
   "source": [
    "\n",
    "sns.countplot(x='target', data=df)"
   ]
  },
  {
   "cell_type": "code",
   "execution_count": 21,
   "id": "dd178806",
   "metadata": {},
   "outputs": [
    {
     "data": {
      "image/png": "[encoded data removed]",
      "text/plain": [
       "<Figure size 640x480 with 1 Axes>"
      ]
     },
     "metadata": {},
     "output_type": "display_data"
    }
   ],
   "source": [
    "import seaborn as sns\n",
    "import matplotlib.pyplot as plt\n",
    "\n",
    "sns.scatterplot(x='ids', y='target', data=df)\n",
    "plt.title('Ids vs Target')\n",
    "plt.xlabel('Ids')\n",
    "plt.ylabel('Target')\n",
    "plt.show()\n"
   ]
  },
  {
   "cell_type": "code",
   "execution_count": 22,
   "id": "edf3d301",
   "metadata": {},
   "outputs": [
    {
     "name": "stderr",
     "output_type": "stream",
     "text": [
      "C:\\Users\\KIIT\\anaconda3\\Lib\\site-packages\\dateutil\\parser\\_parser.py:1207: UnknownTimezoneWarning: tzname PDT identified but not understood.  Pass `tzinfos` argument in order to correctly return a timezone-aware datetime.  In a future version, this will raise an exception.\n",
      "  warnings.warn(\"tzname {tzname} identified but not understood.  \"\n"
     ]
    },
    {
     "data": {
      "image/png": "[encoded data removed]",
      "text/plain": [
       "<Figure size 640x480 with 1 Axes>"
      ]
     },
     "metadata": {},
     "output_type": "display_data"
    }
   ],
   "source": [
    "# Convert timestamp to datetime\n",
    "df['timestamp'] = pd.to_datetime(df['timestamp'])\n",
    "\n",
    "# Plot histogram\n",
    "plt.hist(df['timestamp'], bins=20, color='skyblue', edgecolor='black')\n",
    "plt.title('Histogram of Timestamps')\n",
    "plt.xlabel('Timestamp')\n",
    "plt.ylabel('Frequency')\n",
    "plt.show()"
   ]
  },
  {
   "cell_type": "code",
   "execution_count": 23,
   "id": "e729f0c5",
   "metadata": {},
   "outputs": [
    {
     "data": {
      "image/png": "[encoded data removed]",
      "text/plain": [
       "<Figure size 640x480 with 1 Axes>"
      ]
     },
     "metadata": {},
     "output_type": "display_data"
    }
   ],
   "source": [
    "import seaborn as sns\n",
    "\n",
    "numerical_cols = ['ids']\n",
    "\n",
    "for col in numerical_cols:\n",
    "    sns.boxplot(x=df[col])\n",
    "    plt.title(f'Boxplot of {col}')\n",
    "    plt.show()\n"
   ]
  },
  {
   "cell_type": "code",
   "execution_count": 24,
   "id": "891696c2",
   "metadata": {},
   "outputs": [
    {
     "name": "stderr",
     "output_type": "stream",
     "text": [
      "C:\\Users\\KIIT\\anaconda3\\Lib\\site-packages\\seaborn\\axisgrid.py:118: UserWarning: The figure layout has changed to tight\n",
      "  self._figure.tight_layout(*args, **kwargs)\n"
     ]
    },
    {
     "data": {
      "text/plain": [
       "<seaborn.axisgrid.PairGrid at 0x20092dce210>"
      ]
     },
     "execution_count": 24,
     "metadata": {},
     "output_type": "execute_result"
    },
    {
     "data": {
      "image/png": "[encoded data removed]",
      "text/plain": [
       "<Figure size 500x500 with 6 Axes>"
      ]
     },
     "metadata": {},
     "output_type": "display_data"
    }
   ],
   "source": [
    "sns.pairplot(df, kind='scatter', plot_kws={'alpha': 0.4})"
   ]
  },
  {
   "cell_type": "code",
   "execution_count": 25,
   "id": "9f94a149",
   "metadata": {},
   "outputs": [
    {
     "data": {
      "image/png": "[encoded data removed]",
      "text/plain": [
       "<Figure size 640x480 with 1 Axes>"
      ]
     },
     "metadata": {},
     "output_type": "display_data"
    }
   ],
   "source": [
    "ax = df.groupby('target').count().plot(kind='bar', title='Distribution of data',legend=False)\n",
    "ax.set_xticklabels(['Negative','Positive'], rotation=0)\n",
    "text, sentiment = list(df['text']), list(df['target'])"
   ]
  },
  {
   "cell_type": "markdown",
   "id": "a13cac9a",
   "metadata": {},
   "source": [
    "# Cleaning and PreProcessing"
   ]
  },
  {
   "cell_type": "code",
   "execution_count": 26,
   "id": "b5521458",
   "metadata": {},
   "outputs": [],
   "source": [
    "data=df[['text','target']]"
   ]
  },
  {
   "cell_type": "code",
   "execution_count": 27,
   "id": "c6174f28",
   "metadata": {},
   "outputs": [],
   "source": [
    "data_pos = data[data['target'] == 1]\n",
    "data_neg = data[data['target'] == 0]"
   ]
  },
  {
   "cell_type": "code",
   "execution_count": 28,
   "id": "28a5e875",
   "metadata": {},
   "outputs": [],
   "source": [
    "dataset = pd.concat([data_pos, data_neg])"
   ]
  },
  {
   "cell_type": "code",
   "execution_count": 29,
   "id": "f0e0947a",
   "metadata": {},
   "outputs": [
    {
     "data": {
      "text/plain": [
       "995     @t_wolfe  i miss u too. i'm totally comin back...\n",
       "996     @sniffinglue ohhh. i love it. ps i'm sad we di...\n",
       "997             and somehow i still end up in this place \n",
       "998            @kisluvkis oh that is very sad, poor boy. \n",
       "1998    2morw  i get my blasted wisdom teeth pulled! n...\n",
       "Name: text, dtype: object"
      ]
     },
     "execution_count": 29,
     "metadata": {},
     "output_type": "execute_result"
    }
   ],
   "source": [
    "dataset['text']=dataset['text'].str.lower()\n",
    "dataset['text'].tail()"
   ]
  },
  {
   "cell_type": "code",
   "execution_count": 30,
   "id": "1704854e",
   "metadata": {},
   "outputs": [],
   "source": [
    "wordlist = ['a', 'about', 'above', 'after', 'again', 'ain', 'all', 'am', 'an',\n",
    "             'and','any','are', 'as', 'at', 'be', 'because', 'been', 'before',\n",
    "             'being', 'below', 'between','both', 'by', 'can', 'd', 'did', 'do',\n",
    "             'does', 'doing', 'down', 'during', 'each','few', 'for', 'from',\n",
    "             'further', 'had', 'has', 'have', 'having', 'he', 'her', 'here',\n",
    "             'hers', 'herself', 'him', 'himself', 'his', 'how', 'i', 'if', 'in',\n",
    "             'into','is', 'it', 'its', 'itself', 'just', 'll', 'm', 'ma',\n",
    "             'me', 'more', 'most','my', 'myself', 'now', 'o', 'of', 'on', 'once',\n",
    "             'only', 'or', 'other', 'our', 'ours','ourselves', 'out', 'own', 're','s', 'same', 'she', \"shes\", 'should', \"shouldve\",'so', 'some', 'such',\n",
    "             't', 'than', 'that', \"thatll\", 'the', 'their', 'theirs', 'them',\n",
    "             'themselves', 'then', 'there', 'these', 'they', 'this', 'those',\n",
    "             'through', 'to', 'too','under', 'until', 'up', 've', 'very', 'was',\n",
    "             'we', 'were', 'what', 'when', 'where','which','while', 'who', 'whom',\n",
    "             'why', 'will', 'with', 'won', 'y', 'you', \"youd\",\"youll\", \"youre\",\n",
    "             \"youve\", 'your', 'yours', 'yourself', 'yourselves']"
   ]
  },
  {
   "cell_type": "code",
   "execution_count": 31,
   "id": "36d6fd0c",
   "metadata": {},
   "outputs": [],
   "source": [
    "STOPWORD = set([\"a\", \"an\", \"the\", \"and\", \"but\", \"if\", \"or\", \"because\", \"as\", \"what\", \"which\", \"this\", \"that\", \"these\", \"those\", \"then\", \"just\", \"so\", \"than\", \"such\", \"both\", \"neither\", \"either\", \"no\", \"not\", \"only\", \"also\", \"now\", \"here\", \"there\", \"when\", \"where\", \"why\", \"how\", \"all\", \"any\", \"each\", \"few\", \"more\", \"most\", \"other\", \"some\", \"such\", \"own\", \"same\", \"so\", \"than\", \"too\", \"very\", \"s\", \"t\", \"can\", \"will\", \"just\", \"don\", \"should\", \"now\"])\n",
    "\n",
    "def cleaning_stopwords(text):\n",
    "    return \" \".join([word for word in str(text).split() if word not in STOPWORD])\n",
    "\n",
    "dataset['text'] = dataset['text'].apply(lambda text: cleaning_stopwords(text))\n"
   ]
  },
  {
   "cell_type": "code",
   "execution_count": 32,
   "id": "6544196e",
   "metadata": {},
   "outputs": [
    {
     "data": {
      "text/plain": [
       "995     twolfe i miss u too im totally comin back tho ...\n",
       "996     sniffinglue ohhh i love it ps im sad we didnt ...\n",
       "997                       somehow i still end up in place\n",
       "998                          kisluvkis oh is sad poor boy\n",
       "1998    2morw i get my blasted wisdom teeth pulled nee...\n",
       "Name: text, dtype: object"
      ]
     },
     "execution_count": 32,
     "metadata": {},
     "output_type": "execute_result"
    }
   ],
   "source": [
    "import string\n",
    "english_punctuations = string.punctuation\n",
    "punctuations_list = english_punctuations\n",
    "def cleaning_punctuations(text):\n",
    "    translator = str.maketrans('', '', punctuations_list)\n",
    "    return text.translate(translator)\n",
    "dataset['text']= dataset['text'].apply(lambda x: cleaning_punctuations(x))\n",
    "dataset['text'].tail()"
   ]
  },
  {
   "cell_type": "code",
   "execution_count": 33,
   "id": "f87cdcbc",
   "metadata": {},
   "outputs": [
    {
     "data": {
      "text/plain": [
       "995     twolfe i miss u too im totally comin back tho ...\n",
       "996     sniffinglue ohhh i love it ps im sad we didnt ...\n",
       "997                       somehow i still end up in place\n",
       "998                          kisluvkis oh is sad poor boy\n",
       "1998    2morw i get my blasted wisdom teeth pulled nee...\n",
       "Name: text, dtype: object"
      ]
     },
     "execution_count": 33,
     "metadata": {},
     "output_type": "execute_result"
    }
   ],
   "source": [
    "import re\n",
    "def cleaning_repeating_char(text):\n",
    "    return re.sub(r'(.)1+', r'1', text)\n",
    "dataset['text'] = dataset['text'].apply(lambda x: cleaning_repeating_char(x))\n",
    "dataset['text'].tail()"
   ]
  },
  {
   "cell_type": "code",
   "execution_count": 34,
   "id": "b2e5a78a",
   "metadata": {},
   "outputs": [
    {
     "data": {
      "text/plain": [
       "995     twolfe i miss u too im totally comin back tho ...\n",
       "996     sniffinglue ohhh i love it ps im sad we didnt ...\n",
       "997                       somehow i still end up in place\n",
       "998                          kisluvkis oh is sad poor boy\n",
       "1998    2morw i get my blasted wisdom teeth pulled nee...\n",
       "Name: text, dtype: object"
      ]
     },
     "execution_count": 34,
     "metadata": {},
     "output_type": "execute_result"
    }
   ],
   "source": [
    "def cleaning_URLs(data):\n",
    "    return re.sub('((www.[^s]+)|(https?://[^s]+))',' ',data)\n",
    "dataset['text'] = dataset['text'].apply(lambda x: cleaning_URLs(x))\n",
    "dataset['text'].tail()"
   ]
  },
  {
   "cell_type": "code",
   "execution_count": 35,
   "id": "bd296965",
   "metadata": {},
   "outputs": [
    {
     "data": {
      "text/plain": [
       "995     twolfe i miss u too im totally comin back tho ...\n",
       "996     sniffinglue ohhh i love it ps im sad we didnt ...\n",
       "997                       somehow i still end up in place\n",
       "998                          kisluvkis oh is sad poor boy\n",
       "1998    morw i get my blasted wisdom teeth pulled need...\n",
       "Name: text, dtype: object"
      ]
     },
     "execution_count": 35,
     "metadata": {},
     "output_type": "execute_result"
    }
   ],
   "source": [
    "def cleaning_numbers(data):\n",
    "    return re.sub('[0-9]+', '', data)\n",
    "dataset['text'] = dataset['text'].apply(lambda x: cleaning_numbers(x))\n",
    "dataset['text'].tail()"
   ]
  },
  {
   "cell_type": "markdown",
   "id": "c77ecb86",
   "metadata": {},
   "source": [
    "<div style=\"color:white;\n",
    "            display:fill;\n",
    "            border-radius:10px;\n",
    "            background-color:skyblue;\n",
    "            font-size:75%;\n",
    "            font-family:Verdana;\n",
    "            letter-spacing:1px\">\n",
    "    <h2 style='padding: 10px;\n",
    "              color:black;\n",
    "              text-align:center;'>\n",
    "        Machine Learning Implementation\n",
    "    </h2>\n",
    "    </div>"
   ]
  },
  {
   "cell_type": "code",
   "execution_count": 36,
   "id": "cffb935d",
   "metadata": {},
   "outputs": [],
   "source": [
    "X=df.text\n",
    "y=df.target"
   ]
  },
  {
   "cell_type": "code",
   "execution_count": 91,
   "id": "81cf2304",
   "metadata": {},
   "outputs": [],
   "source": [
    "\n",
    "def calculate_metrics(y_true, y_pred):\n",
    "    mse = mean_squared_error(y_true, y_pred)\n",
    "    rmse = np.sqrt(mse)\n",
    "    mae = mean_absolute_error(y_true, y_pred)\n",
    "    r2 = r2_score(y_true, y_pred)\n",
    "    return mse, rmse, mae, r2\n",
    "\n",
    "X_train, X_test, y_train, y_test = train_test_split(X, y, test_size=0.05, random_state=26105111)\n",
    "\n",
    "vectorizer = TfidfVectorizer()\n",
    "X_train = vectorizer.fit_transform(X_train)\n",
    "X_test = vectorizer.transform(X_test)"
   ]
  },
  {
   "cell_type": "code",
   "execution_count": 92,
   "id": "bd3a854a",
   "metadata": {},
   "outputs": [],
   "source": [
    "# Support Vector Machine (SVM)\n",
    "svm_model = SVR()\n",
    "svm_model.fit(X_train, y_train)\n",
    "y_pred_svm = svm_model.predict(X_test)"
   ]
  },
  {
   "cell_type": "code",
   "execution_count": 93,
   "id": "d4a0ed1a",
   "metadata": {},
   "outputs": [],
   "source": [
    "# logistic regression model\n",
    "from sklearn.linear_model import LogisticRegression\n",
    "logistic_model = LogisticRegression()\n",
    "logistic_model.fit(X_train, y_train)\n",
    "y_pred_logistic = logistic_model.predict(X_test)"
   ]
  },
  {
   "cell_type": "code",
   "execution_count": 94,
   "id": "61989b50",
   "metadata": {},
   "outputs": [],
   "source": [
    "# Naive Bayes (GaussianNB)\n",
    "naive_bayes_model = GaussianNB()\n",
    "naive_bayes_model.fit(X_train.toarray(), y_train)\n",
    "y_pred_naive_bayes = naive_bayes_model.predict(X_test.toarray())\n"
   ]
  },
  {
   "cell_type": "markdown",
   "id": "b3d8affc",
   "metadata": {},
   "source": [
    "<div style=\"color:white;\n",
    "            display:fill;\n",
    "            border-radius:10px;\n",
    "            background-color:skyblue;\n",
    "            font-size:75%;\n",
    "            font-family:Verdana;\n",
    "            letter-spacing:1px\">\n",
    "    <h2 style='padding: 10px;\n",
    "              color:black;\n",
    "              text-align:center;'>\n",
    "        Model Evaluation\n",
    "    </h2>\n",
    "    </div>"
   ]
  },
  {
   "cell_type": "code",
   "execution_count": 95,
   "id": "c76e4561",
   "metadata": {},
   "outputs": [
    {
     "name": "stdout",
     "output_type": "stream",
     "text": [
      "\n",
      "Support Vector Machine (SVM):\n",
      "MSE: 0.2252624704890506\n",
      "RMSE: 0.47461823657446056\n",
      "MAE: 0.4559164470104424\n",
      "R2 Score: 0.09858955386534363\n"
     ]
    }
   ],
   "source": [
    "print(\"\\nSupport Vector Machine (SVM):\")\n",
    "mse_svm, rmse_svm, mae_svm, r2_svm = calculate_metrics(y_test, y_pred_svm)\n",
    "print(\"MSE:\", mse_svm)\n",
    "print(\"RMSE:\", rmse_svm)\n",
    "print(\"MAE:\", mae_svm)\n",
    "print(\"R2 Score:\", r2_svm)"
   ]
  },
  {
   "cell_type": "code",
   "execution_count": 96,
   "id": "4397a428",
   "metadata": {},
   "outputs": [
    {
     "name": "stdout",
     "output_type": "stream",
     "text": [
      "Logistic Regression:\n",
      "MSE: 0.41\n",
      "RMSE: 0.6403124237432849\n",
      "MAE: 0.41\n",
      "R2 Score: -0.6406562625050023\n"
     ]
    }
   ],
   "source": [
    "print(\"Logistic Regression:\")\n",
    "mse_logistic, rmse_logistic, mae_logistic, r2_logistic = calculate_metrics(y_test, y_pred_logistic)\n",
    "print(\"MSE:\", mse_logistic)\n",
    "print(\"RMSE:\", rmse_logistic)\n",
    "print(\"MAE:\", mae_logistic)\n",
    "print(\"R2 Score:\", r2_logistic)"
   ]
  },
  {
   "cell_type": "code",
   "execution_count": 97,
   "id": "f5bc9e55",
   "metadata": {},
   "outputs": [
    {
     "name": "stdout",
     "output_type": "stream",
     "text": [
      "\n",
      "Naive Bayes (GaussianNB):\n",
      "MSE: 0.43\n",
      "RMSE: 0.6557438524302001\n",
      "MAE: 0.43\n",
      "R2 Score: -0.7206882753101245\n"
     ]
    }
   ],
   "source": [
    "print(\"\\nNaive Bayes (GaussianNB):\")\n",
    "mse_naive_bayes, rmse_naive_bayes, mae_naive_bayes, r2_naive_bayes = calculate_metrics(y_test, y_pred_naive_bayes)\n",
    "print(\"MSE:\", mse_naive_bayes)\n",
    "print(\"RMSE:\", rmse_naive_bayes)\n",
    "print(\"MAE:\", mae_naive_bayes)\n",
    "print(\"R2 Score:\", r2_naive_bayes)\n"
   ]
  },
  {
   "cell_type": "markdown",
   "id": "d6c94467",
   "metadata": {},
   "source": [
    "## Confusion Matrix"
   ]
  },
  {
   "cell_type": "code",
   "execution_count": 98,
   "id": "7a1bc849",
   "metadata": {},
   "outputs": [
    {
     "name": "stderr",
     "output_type": "stream",
     "text": [
      "C:\\Users\\KIIT\\anaconda3\\Lib\\site-packages\\dateutil\\parser\\_parser.py:1207: UnknownTimezoneWarning: tzname PDT identified but not understood.  Pass `tzinfos` argument in order to correctly return a timezone-aware datetime.  In a future version, this will raise an exception.\n",
      "  warnings.warn(\"tzname {tzname} identified but not understood.  \"\n"
     ]
    }
   ],
   "source": [
    "import pandas as pd\n",
    "import numpy as np\n",
    "import re\n",
    "import string\n",
    "from sklearn.model_selection import train_test_split\n",
    "from sklearn.feature_extraction.text import TfidfVectorizer\n",
    "from sklearn.metrics import confusion_matrix, classification_report\n",
    "from sklearn.naive_bayes import BernoulliNB\n",
    "from sklearn.svm import LinearSVC\n",
    "from sklearn.linear_model import LogisticRegression\n",
    "import matplotlib.pyplot as plt\n",
    "import seaborn as sns\n",
    "\n",
    "df = pd.read_csv(\"twitterdata.csv\")\n",
    "\n",
    "df.columns = ['target', 'ids', 'timestamp', 'query', 'user', 'text']\n",
    "\n",
    "df['timestamp'] = pd.to_datetime(df['timestamp'])\n",
    "\n",
    "def clean_text(text):\n",
    "    text = text.lower()\n",
    "    text = re.sub(r'http\\S+|www.\\S+', '', text)\n",
    "    text = re.sub(r'\\d+', '', text)\n",
    "    text = text.translate(str.maketrans('', '', string.punctuation))\n",
    "    return text\n",
    "\n",
    "df['text'] = df['text'].apply(clean_text)\n",
    "\n",
    "X = df['text']\n",
    "y = df['target']\n",
    "\n",
    "X_train, X_test, y_train, y_test = train_test_split(X, y, test_size=0.2, random_state=42)\n",
    "\n",
    "vectorizer = TfidfVectorizer()\n",
    "X_train_transformed = vectorizer.fit_transform(X_train)\n",
    "X_test_transformed = vectorizer.transform(X_test)\n",
    "\n",
    "def model_evaluate(model, model_name):\n",
    "    y_pred = model.predict(X_test_transformed)\n",
    "    \n",
    "    print(f\"Classification Report for {model_name}:\")\n",
    "    print(classification_report(y_test, y_pred))\n",
    "    \n",
    "    cm = confusion_matrix(y_test, y_pred)\n",
    "    \n",
    "    cm_percent = np.round(cm / cm.sum(axis=1)[:, np.newaxis] * 100, 2)\n",
    "\n",
    "    plt.figure(figsize=(8, 6))\n",
    "    sns.heatmap(cm_percent, annot=True, cmap=\"Blues\", fmt=\"g\", xticklabels=['Negative', 'Positive'], yticklabels=['Negative', 'Positive'])\n",
    "    plt.title(f'Confusion Matrix for {model_name}')\n",
    "    plt.xlabel('Predicted')\n",
    "    plt.ylabel('Actual')\n",
    "    plt.show()\n"
   ]
  },
  {
   "cell_type": "code",
   "execution_count": 99,
   "id": "19ea841e",
   "metadata": {},
   "outputs": [
    {
     "name": "stdout",
     "output_type": "stream",
     "text": [
      "Classification Report for Logistic Regression:\n",
      "              precision    recall  f1-score   support\n",
      "\n",
      "           0       0.55      0.53      0.54       207\n",
      "           1       0.51      0.53      0.52       193\n",
      "\n",
      "    accuracy                           0.53       400\n",
      "   macro avg       0.53      0.53      0.53       400\n",
      "weighted avg       0.53      0.53      0.53       400\n",
      "\n"
     ]
    },
    {
     "data": {
      "image/png": "[encoded data removed]",
      "text/plain": [
       "<Figure size 800x600 with 2 Axes>"
      ]
     },
     "metadata": {},
     "output_type": "display_data"
    }
   ],
   "source": [
    "# Logistic Regression\n",
    "log_reg = LogisticRegression(max_iter=1000)\n",
    "log_reg.fit(X_train_transformed, y_train)\n",
    "model_evaluate(log_reg, \"Logistic Regression\")\n"
   ]
  },
  {
   "cell_type": "code",
   "execution_count": 100,
   "id": "d84ac315",
   "metadata": {},
   "outputs": [
    {
     "name": "stdout",
     "output_type": "stream",
     "text": [
      "Classification Report for Naive Bayes:\n",
      "              precision    recall  f1-score   support\n",
      "\n",
      "           0       0.54      0.54      0.54       207\n",
      "           1       0.51      0.50      0.50       193\n",
      "\n",
      "    accuracy                           0.52       400\n",
      "   macro avg       0.52      0.52      0.52       400\n",
      "weighted avg       0.52      0.52      0.52       400\n",
      "\n"
     ]
    },
    {
     "data": {
      "image/png": "[encoded data removed]",
      "text/plain": [
       "<Figure size 800x600 with 2 Axes>"
      ]
     },
     "metadata": {},
     "output_type": "display_data"
    }
   ],
   "source": [
    "# Naive Bayes\n",
    "nb = BernoulliNB()\n",
    "nb.fit(X_train_transformed, y_train)\n",
    "model_evaluate(nb, \"Naive Bayes\")\n"
   ]
  },
  {
   "cell_type": "code",
   "execution_count": 101,
   "id": "39664ca6",
   "metadata": {},
   "outputs": [
    {
     "name": "stderr",
     "output_type": "stream",
     "text": [
      "C:\\Users\\KIIT\\anaconda3\\Lib\\site-packages\\sklearn\\svm\\_classes.py:32: FutureWarning: The default value of `dual` will change from `True` to `'auto'` in 1.5. Set the value of `dual` explicitly to suppress the warning.\n",
      "  warnings.warn(\n"
     ]
    },
    {
     "name": "stdout",
     "output_type": "stream",
     "text": [
      "Classification Report for Support Vector Machine:\n",
      "              precision    recall  f1-score   support\n",
      "\n",
      "           0       0.55      0.55      0.55       207\n",
      "           1       0.51      0.51      0.51       193\n",
      "\n",
      "    accuracy                           0.53       400\n",
      "   macro avg       0.53      0.53      0.53       400\n",
      "weighted avg       0.53      0.53      0.53       400\n",
      "\n"
     ]
    },
    {
     "data": {
      "image/png": "[encoded data removed]",
      "text/plain": [
       "<Figure size 800x600 with 2 Axes>"
      ]
     },
     "metadata": {},
     "output_type": "display_data"
    }
   ],
   "source": [
    "# Support Vector Machine\n",
    "svm = LinearSVC()\n",
    "svm.fit(X_train_transformed, y_train)\n",
    "model_evaluate(svm, \"Support Vector Machine\")"
   ]
  },
  {
   "cell_type": "markdown",
   "id": "6814b09c",
   "metadata": {},
   "source": [
    "### Concluding best model"
   ]
  },
  {
   "cell_type": "code",
   "execution_count": 110,
   "id": "40ca47b0",
   "metadata": {},
   "outputs": [
    {
     "name": "stdout",
     "output_type": "stream",
     "text": [
      "From above analysis we can conclude that SVM is the best model for this dataset to predict most accurate price with Lowest MSE and Highest R2 score. \n"
     ]
    }
   ],
   "source": [
    "print(\"From above analysis we can conclude that SVM is the best model for this dataset to predict most accurate price with Lowest MSE and Highest R2 score. \")"
   ]
  },
  {
   "cell_type": "markdown",
   "id": "46951ab1",
   "metadata": {},
   "source": [
    "### Saving the Model"
   ]
  },
  {
   "cell_type": "code",
   "execution_count": 88,
   "id": "e53ecc42",
   "metadata": {},
   "outputs": [
    {
     "data": {
      "text/plain": [
       "['BestModel.pkl']"
      ]
     },
     "execution_count": 88,
     "metadata": {},
     "output_type": "execute_result"
    }
   ],
   "source": [
    "joblib.dump(best_model, 'BestModel.pkl')"
   ]
  },
  {
   "cell_type": "code",
   "execution_count": null,
   "id": "767e9d36",
   "metadata": {},
   "outputs": [],
   "source": []
  }
 ],
 "metadata": {
  "kernelspec": {
   "display_name": "Python 3 (ipykernel)",
   "language": "python",
   "name": "python3"
  },
  "language_info": {
   "codemirror_mode": {
    "name": "ipython",
    "version": 3
   },
   "file_extension": ".py",
   "mimetype": "text/x-python",
   "name": "python",
   "nbconvert_exporter": "python",
   "pygments_lexer": "ipython3",
   "version": "3.11.5"
  }
 },
 "nbformat": 4,
 "nbformat_minor": 5
}
